{
 "cells": [
  {
   "cell_type": "code",
   "execution_count": 1,
   "id": "35108716",
   "metadata": {
    "ExecuteTime": {
     "end_time": "2024-06-07T08:49:49.937275Z",
     "start_time": "2024-06-07T08:49:49.492604Z"
    }
   },
   "outputs": [],
   "source": [
    "import saspy\n",
    "import os\n",
    "import pandas as pd\n",
    "import numpy as np\n",
    "from IPython.core.display import display, HTML"
   ]
  },
  {
   "cell_type": "code",
   "execution_count": 2,
   "id": "9357641e",
   "metadata": {
    "ExecuteTime": {
     "end_time": "2024-06-07T08:50:07.268817Z",
     "start_time": "2024-06-07T08:49:52.120918Z"
    }
   },
   "outputs": [
    {
     "name": "stdout",
     "output_type": "stream",
     "text": [
      "Using SAS Config named: oda\n",
      "Did not find key oda in authinfo file:/Users/zheyujiang/.authinfo\n",
      "\n",
      "Please enter the OMR user id: zheyujiang@gmail.com\n",
      "Please enter the password for OMR user : ········\n",
      "SAS Connection established. Subprocess id is 31061\n",
      "\n"
     ]
    }
   ],
   "source": [
    "# Provide the path to your configuration file\n",
    "sas = saspy.SASsession(cfgfile='saspy_config.py')"
   ]
  },
  {
   "cell_type": "code",
   "execution_count": null,
   "id": "2ba05b13",
   "metadata": {
    "ExecuteTime": {
     "end_time": "2024-06-07T08:37:17.809548Z",
     "start_time": "2024-06-07T08:37:08.401693Z"
    }
   },
   "outputs": [],
   "source": [
    "# read in working data for modeling\n",
    "acs = pd.read_csv(\"Data/Output Data/acs_for_model_20240607_2907.csv\")"
   ]
  },
  {
   "cell_type": "code",
   "execution_count": 5,
   "id": "7fc4c968",
   "metadata": {
    "ExecuteTime": {
     "end_time": "2024-06-07T08:51:03.819324Z",
     "start_time": "2024-06-07T08:51:03.806075Z"
    }
   },
   "outputs": [
    {
     "name": "stdout",
     "output_type": "stream",
     "text": [
      "No SAS process attached. SAS process has terminated unexpectedly.\n"
     ]
    },
    {
     "ename": "SASIOConnectionTerminated",
     "evalue": "No SAS process attached. SAS process has terminated unexpectedly.\n<class 'Exception'>",
     "output_type": "error",
     "traceback": [
      "\u001b[0;31m---------------------------------------------------------------------------\u001b[0m",
      "\u001b[0;31mSASIOConnectionTerminated\u001b[0m                 Traceback (most recent call last)",
      "\u001b[0;32m/var/folders/55/fplh281d6j5by96zpf4nk2gh0000gn/T/ipykernel_31051/1008602329.py\u001b[0m in \u001b[0;36m<module>\u001b[0;34m\u001b[0m\n\u001b[1;32m      7\u001b[0m \"\"\"\n\u001b[1;32m      8\u001b[0m \u001b[0;34m\u001b[0m\u001b[0m\n\u001b[0;32m----> 9\u001b[0;31m \u001b[0mresult\u001b[0m \u001b[0;34m=\u001b[0m \u001b[0msas\u001b[0m\u001b[0;34m.\u001b[0m\u001b[0msubmit\u001b[0m\u001b[0;34m(\u001b[0m\u001b[0msas_code\u001b[0m\u001b[0;34m)\u001b[0m\u001b[0;34m\u001b[0m\u001b[0;34m\u001b[0m\u001b[0m\n\u001b[0m\u001b[1;32m     10\u001b[0m \u001b[0mprint\u001b[0m\u001b[0;34m(\u001b[0m\u001b[0mresult\u001b[0m\u001b[0;34m[\u001b[0m\u001b[0;34m'LOG'\u001b[0m\u001b[0;34m]\u001b[0m\u001b[0;34m)\u001b[0m\u001b[0;34m\u001b[0m\u001b[0;34m\u001b[0m\u001b[0m\n",
      "\u001b[0;32m~/opt/anaconda3/lib/python3.9/site-packages/saspy/sasbase.py\u001b[0m in \u001b[0;36msubmit\u001b[0;34m(self, code, results, prompt, printto, **kwargs)\u001b[0m\n\u001b[1;32m    937\u001b[0m                 \u001b[0mresults\u001b[0m \u001b[0;34m=\u001b[0m \u001b[0mself\u001b[0m\u001b[0;34m.\u001b[0m\u001b[0mresults\u001b[0m\u001b[0;34m\u001b[0m\u001b[0;34m\u001b[0m\u001b[0m\n\u001b[1;32m    938\u001b[0m \u001b[0;34m\u001b[0m\u001b[0m\n\u001b[0;32m--> 939\u001b[0;31m         \u001b[0mll\u001b[0m \u001b[0;34m=\u001b[0m \u001b[0mself\u001b[0m\u001b[0;34m.\u001b[0m\u001b[0m_io\u001b[0m\u001b[0;34m.\u001b[0m\u001b[0msubmit\u001b[0m\u001b[0;34m(\u001b[0m\u001b[0mcode\u001b[0m\u001b[0;34m,\u001b[0m \u001b[0mresults\u001b[0m\u001b[0;34m,\u001b[0m \u001b[0mprompt\u001b[0m\u001b[0;34m,\u001b[0m \u001b[0mundo\u001b[0m\u001b[0;34m=\u001b[0m\u001b[0mprintto\u001b[0m\u001b[0;34m,\u001b[0m \u001b[0mcancel\u001b[0m\u001b[0;34m=\u001b[0m\u001b[0;32mTrue\u001b[0m\u001b[0;34m,\u001b[0m \u001b[0;34m**\u001b[0m\u001b[0mkwargs\u001b[0m\u001b[0;34m)\u001b[0m\u001b[0;34m\u001b[0m\u001b[0;34m\u001b[0m\u001b[0m\n\u001b[0m\u001b[1;32m    940\u001b[0m \u001b[0;34m\u001b[0m\u001b[0m\n\u001b[1;32m    941\u001b[0m         \u001b[0;32mif\u001b[0m \u001b[0mself\u001b[0m\u001b[0;34m.\u001b[0m\u001b[0msascfg\u001b[0m\u001b[0;34m.\u001b[0m\u001b[0mcolorLOG\u001b[0m\u001b[0;34m:\u001b[0m\u001b[0;34m\u001b[0m\u001b[0;34m\u001b[0m\u001b[0m\n",
      "\u001b[0;32m~/opt/anaconda3/lib/python3.9/site-packages/saspy/sasioiom.py\u001b[0m in \u001b[0;36msubmit\u001b[0;34m(self, code, results, prompt, **kwargs)\u001b[0m\n\u001b[1;32m    885\u001b[0m          \u001b[0;31m#return dict(LOG=\"No SAS process attached. SAS process has terminated unexpectedly.\", LST='')\u001b[0m\u001b[0;34m\u001b[0m\u001b[0;34m\u001b[0m\u001b[0m\n\u001b[1;32m    886\u001b[0m          \u001b[0mlogger\u001b[0m\u001b[0;34m.\u001b[0m\u001b[0mfatal\u001b[0m\u001b[0;34m(\u001b[0m\u001b[0;34m\"No SAS process attached. SAS process has terminated unexpectedly.\"\u001b[0m\u001b[0;34m)\u001b[0m\u001b[0;34m\u001b[0m\u001b[0;34m\u001b[0m\u001b[0m\n\u001b[0;32m--> 887\u001b[0;31m          \u001b[0;32mraise\u001b[0m \u001b[0mSASIOConnectionTerminated\u001b[0m\u001b[0;34m(\u001b[0m\u001b[0mException\u001b[0m\u001b[0;34m)\u001b[0m\u001b[0;34m\u001b[0m\u001b[0;34m\u001b[0m\u001b[0m\n\u001b[0m\u001b[1;32m    888\u001b[0m \u001b[0;34m\u001b[0m\u001b[0m\n\u001b[1;32m    889\u001b[0m       \u001b[0;32mif\u001b[0m \u001b[0mos\u001b[0m\u001b[0;34m.\u001b[0m\u001b[0mname\u001b[0m \u001b[0;34m==\u001b[0m \u001b[0;34m'nt'\u001b[0m\u001b[0;34m:\u001b[0m\u001b[0;34m\u001b[0m\u001b[0;34m\u001b[0m\u001b[0m\n",
      "\u001b[0;31mSASIOConnectionTerminated\u001b[0m: No SAS process attached. SAS process has terminated unexpectedly.\n<class 'Exception'>"
     ]
    }
   ],
   "source": [
    "sas_code = \"\"\"\n",
    "data xxx;\n",
    "    x = 1;\n",
    "run;\n",
    "proc contents data = xxx;\n",
    "run;\n",
    "\"\"\"\n",
    "\n",
    "result = sas.submit(sas_code)\n",
    "print(result['LOG'])"
   ]
  },
  {
   "cell_type": "code",
   "execution_count": null,
   "id": "ed522c93",
   "metadata": {},
   "outputs": [],
   "source": [
    "sas_code = \"\n",
    "proc contents data = asc;\n",
    "run;\n",
    "\""
   ]
  },
  {
   "cell_type": "code",
   "execution_count": null,
   "id": "595b9b80",
   "metadata": {},
   "outputs": [],
   "source": [
    "result = sas.submit(sas_code)"
   ]
  },
  {
   "cell_type": "code",
   "execution_count": null,
   "id": "d2bfb903",
   "metadata": {},
   "outputs": [],
   "source": [
    "print(result['LOG'])"
   ]
  },
  {
   "cell_type": "code",
   "execution_count": null,
   "id": "55ca55ff",
   "metadata": {},
   "outputs": [],
   "source": [
    "display(HTML(result['LST']))"
   ]
  },
  {
   "cell_type": "code",
   "execution_count": null,
   "id": "78046512",
   "metadata": {
    "ExecuteTime": {
     "end_time": "2024-06-07T08:06:23.614006Z",
     "start_time": "2024-06-07T08:06:23.080426Z"
    }
   },
   "outputs": [],
   "source": [
    "sas_code = \"\"\"\n",
    "data xxx;\n",
    "   input x;\n",
    "   cards;\n",
    "   1\n",
    "   2\n",
    "   3\n",
    "   ;\n",
    "run;\n",
    "\n",
    "proc freq data=xxx;\n",
    "table x;\n",
    "run;\n",
    "\"\"\"\n",
    "\n",
    "result = sas.submit(sas_code)"
   ]
  },
  {
   "cell_type": "code",
   "execution_count": null,
   "id": "c03048c8",
   "metadata": {
    "ExecuteTime": {
     "end_time": "2024-06-07T08:06:25.882206Z",
     "start_time": "2024-06-07T08:06:25.869710Z"
    }
   },
   "outputs": [],
   "source": [
    "\n",
    "\n",
    "# Display the HTML output in the notebook\n",
    "display(HTML(result['LST']))"
   ]
  },
  {
   "cell_type": "code",
   "execution_count": null,
   "id": "3ef6ee09",
   "metadata": {
    "ExecuteTime": {
     "end_time": "2024-06-07T08:07:20.171514Z",
     "start_time": "2024-06-07T08:07:20.160105Z"
    }
   },
   "outputs": [],
   "source": [
    "# Print the log\n",
    "print(result['LOG'])"
   ]
  }
 ],
 "metadata": {
  "kernelspec": {
   "display_name": "Python 3 (ipykernel)",
   "language": "python",
   "name": "python3"
  },
  "language_info": {
   "codemirror_mode": {
    "name": "ipython",
    "version": 3
   },
   "file_extension": ".py",
   "mimetype": "text/x-python",
   "name": "python",
   "nbconvert_exporter": "python",
   "pygments_lexer": "ipython3",
   "version": "3.9.7"
  },
  "varInspector": {
   "cols": {
    "lenName": 16,
    "lenType": 16,
    "lenVar": 40
   },
   "kernels_config": {
    "python": {
     "delete_cmd_postfix": "",
     "delete_cmd_prefix": "del ",
     "library": "var_list.py",
     "varRefreshCmd": "print(var_dic_list())"
    },
    "r": {
     "delete_cmd_postfix": ") ",
     "delete_cmd_prefix": "rm(",
     "library": "var_list.r",
     "varRefreshCmd": "cat(var_dic_list()) "
    }
   },
   "types_to_exclude": [
    "module",
    "function",
    "builtin_function_or_method",
    "instance",
    "_Feature"
   ],
   "window_display": false
  }
 },
 "nbformat": 4,
 "nbformat_minor": 5
}
