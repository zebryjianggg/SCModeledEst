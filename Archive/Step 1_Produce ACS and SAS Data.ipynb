{
 "cells": [
  {
   "cell_type": "markdown",
   "id": "2c9c7650",
   "metadata": {},
   "source": [
    "Environment Set-up"
   ]
  },
  {
   "cell_type": "code",
   "execution_count": 2,
   "id": "38859493",
   "metadata": {
    "ExecuteTime": {
     "end_time": "2024-05-23T01:37:13.982128Z",
     "start_time": "2024-05-23T01:37:13.407431Z"
    }
   },
   "outputs": [],
   "source": [
    "import pandas as pd\n",
    "import pyreadstat\n",
    "from sas7bdat import SAS7BDAT\n",
    "import numpy as np\n",
    "from tabulate import tabulate"
   ]
  },
  {
   "cell_type": "markdown",
   "id": "5ac2331a",
   "metadata": {},
   "source": [
    "Importing Data"
   ]
  },
  {
   "cell_type": "code",
   "execution_count": 3,
   "id": "046d12ac",
   "metadata": {
    "ExecuteTime": {
     "end_time": "2024-05-23T01:37:41.955390Z",
     "start_time": "2024-05-23T01:37:13.983250Z"
    }
   },
   "outputs": [],
   "source": [
    "acs_raw = pd.read_csv(\"Data/ACS_5YR/2018_2022/psam_p06.csv\")"
   ]
  },
  {
   "cell_type": "code",
   "execution_count": null,
   "id": "ebeceb64",
   "metadata": {
    "ExecuteTime": {
     "start_time": "2024-05-23T01:37:13.407Z"
    }
   },
   "outputs": [],
   "source": [
    "with SAS7BDAT('Data/CHIS Dummy/Adult 2022/dummy_adult.sas7bdat') as file:\n",
    "    chis_raw = file.to_data_frame()"
   ]
  },
  {
   "cell_type": "code",
   "execution_count": null,
   "id": "a2a760eb",
   "metadata": {
    "ExecuteTime": {
     "start_time": "2024-05-23T01:37:13.408Z"
    },
    "scrolled": true
   },
   "outputs": [],
   "source": [
    "acs_raw['SERIALNO'].head()"
   ]
  },
  {
   "cell_type": "markdown",
   "id": "520bb31d",
   "metadata": {},
   "source": [
    "Data Manipulation Toolbox - DataToolBox"
   ]
  },
  {
   "cell_type": "code",
   "execution_count": null,
   "id": "6977877a",
   "metadata": {
    "ExecuteTime": {
     "start_time": "2024-05-23T01:37:13.410Z"
    }
   },
   "outputs": [],
   "source": [
    "class DataToolBox:\n",
    "    def __init__(self, data):\n",
    "        \"\"\"\n",
    "        Initialize the DataToolBox with a dataset.\n",
    "\n",
    "        :param data: A pandas DataFrame that contains the data to be analyzed and manipulated.\n",
    "        \"\"\"\n",
    "        self.data = data\n",
    "\n",
    "    def return_data(self):\n",
    "        \"\"\"\n",
    "        Return the current state of the data stored in the toolbox.\n",
    "\n",
    "        :return: The current pandas DataFrame stored within the tool.\n",
    "        \"\"\"\n",
    "        return self.data\n",
    "\n",
    "    def data_desc(self):\n",
    "        \"\"\"\n",
    "        Print a description of the current dataset including the number of observations (rows) and variables (columns).\n",
    "        \"\"\"\n",
    "        temp = self.data.shape\n",
    "        print(\"---------Current Data State----------\")\n",
    "        print(temp[0], \"obs;\", temp[1], \"vars\")\n",
    "        print(\"\")\n",
    "\n",
    "    def data_exclude(self, condition: str):\n",
    "        \"\"\"\n",
    "        Exclude observations from the data based on a given condition and updates the dataset.\n",
    "\n",
    "        :param condition: A string representing the condition to be used for filtering the data.\n",
    "                          Observations meeting this condition will be excluded.\n",
    "        \"\"\"\n",
    "        temp = self.data.query(condition)\n",
    "        temp_new_obs = temp.shape[0]\n",
    "        temp_old_obs = self.data.shape[0]\n",
    "        temp_diff_obs = temp_old_obs - temp_new_obs\n",
    "\n",
    "        print(\"---------Obs Filter-----------------\")\n",
    "        print(\"applying condition: \", condition)\n",
    "        print(temp_diff_obs, \"/\", temp_old_obs, \"cases were removed\")\n",
    "        print(\"new obs #: \", temp_new_obs)\n",
    "        print(\"\")\n",
    "\n",
    "        self.data = temp\n",
    "\n",
    "    def freq_1way(self, col_name):\n",
    "        \"\"\"\n",
    "        Print the frequency count and percentage distribution of a single column, sorted by index,\n",
    "        and display it in a formatted table with borders. Rows with a count of zero are not shown.\n",
    "\n",
    "        :param col_name: The name of the column for which the frequency distribution is to be calculated.\n",
    "        \"\"\"\n",
    "        # Get counts and sort by index\n",
    "        counts = self.data[col_name].value_counts().sort_index()\n",
    "        # Calculate percentages\n",
    "        percentages = (counts / counts.sum()) * 100\n",
    "        # Combine counts and percentages into a single DataFrame for better display\n",
    "        frequency_df = pd.DataFrame({\n",
    "            'Counts': counts,\n",
    "            'Percentage': percentages\n",
    "        })\n",
    "\n",
    "        # Filter out rows with zero counts and reset the index\n",
    "        frequency_df = frequency_df[frequency_df['Counts'] > 0].reset_index()\n",
    "\n",
    "        # Print results using tabulate for better formatting\n",
    "        print(\"---------Frequency Distribution for\", col_name, \"----------\")\n",
    "        print(\n",
    "            tabulate(frequency_df,\n",
    "                     headers='keys',\n",
    "                     tablefmt='grid',\n",
    "                     showindex=False))\n",
    "        print(\"\")\n",
    "\n",
    "    def freq_2way(self, col_name_1, col_name_2, exclude_equal=False):\n",
    "        \"\"\"\n",
    "        Print a two-way frequency table (crosstab) between two columns in a formatted table with borders,\n",
    "        excluding rows where the count is zero, and optionally excluding rows where values in A are equal to B.\n",
    "        Rows with a count of zero are not indexed.\n",
    "\n",
    "        :param col_name_1: The name of the first column.\n",
    "        :param col_name_2: The name of the second column.\n",
    "        :param exclude_equal: If True, exclude rows where the values of col_name_1 are equal to col_name_2.\n",
    "        \"\"\"\n",
    "        # Generate crosstab data\n",
    "        crosstab_result = pd.crosstab(self.data[col_name_1],\n",
    "                                      self.data[col_name_2],\n",
    "                                      rownames=[col_name_1],\n",
    "                                      colnames=[col_name_2])\n",
    "\n",
    "        # Reset index to make crosstab a regular DataFrame\n",
    "        crosstab_result = crosstab_result.reset_index()\n",
    "\n",
    "        # Melt the DataFrame to get a long format\n",
    "        melted_crosstab = crosstab_result.melt(id_vars=[col_name_1],\n",
    "                                               value_name='COUNT')\n",
    "\n",
    "        # Filter out rows where COUNT is zero and optionally where values in column A are equal to values in column B\n",
    "        if exclude_equal:\n",
    "            melted_crosstab = melted_crosstab[\n",
    "                (melted_crosstab['COUNT'] > 0)\n",
    "                & (melted_crosstab[col_name_1] != melted_crosstab[col_name_2])]\n",
    "            title = f\"Two-way Frequency Table for {col_name_1} and {col_name_2} (Unequal Values Only)\"\n",
    "        else:\n",
    "            melted_crosstab = melted_crosstab[melted_crosstab['COUNT'] > 0]\n",
    "            title = f\"Two-way Frequency Table for {col_name_1} and {col_name_2}\"\n",
    "\n",
    "        # Reset index to clean up the table view\n",
    "        melted_crosstab = melted_crosstab.reset_index(drop=True)\n",
    "\n",
    "        # Sort the results based on column A\n",
    "        melted_crosstab = melted_crosstab.sort_values(\n",
    "            by=[col_name_1, col_name_2])\n",
    "\n",
    "        # Print results using tabulate for better formatting\n",
    "        print(\"---------\", title, \"----------\")\n",
    "        print(\n",
    "            tabulate(melted_crosstab,\n",
    "                     headers='keys',\n",
    "                     tablefmt='grid',\n",
    "                     showindex=False))\n",
    "        print(\"\")\n",
    "\n",
    "    def freq_multiway(self, columns, exclude_zeros=True, exclude_equal=False):\n",
    "        \"\"\"\n",
    "        Print a multi-way frequency table (crosstab) between given columns in a formatted table with borders,\n",
    "        excluding rows where the count is zero, and optionally excluding rows where all values in specified columns are equal.\n",
    "\n",
    "        :param columns: List of column names to include in the frequency table.\n",
    "        :param exclude_zeros: If True, exclude rows where the count is zero.\n",
    "        :param exclude_equal: If True, exclude rows where all specified column values are equal.\n",
    "        \"\"\"\n",
    "        # Generate crosstab data\n",
    "        crosstab_result = pd.crosstab(\n",
    "            index=[self.data[col] for col in columns[:-1]],\n",
    "            columns=self.data[columns[-1]],\n",
    "            rownames=columns[:-1],\n",
    "            colnames=[columns[-1]])\n",
    "\n",
    "        # Reset index to make crosstab a regular DataFrame and flatten MultiIndex\n",
    "        crosstab_result.reset_index(inplace=True)\n",
    "        melted_crosstab = pd.melt(crosstab_result,\n",
    "                                  id_vars=columns[:-1],\n",
    "                                  value_name='COUNT')\n",
    "\n",
    "        # Apply filters\n",
    "        if exclude_zeros:\n",
    "            melted_crosstab = melted_crosstab[melted_crosstab['COUNT'] > 0]\n",
    "\n",
    "        if exclude_equal and len(columns) > 1:\n",
    "            # Check if all elements in each row are equal\n",
    "            equal_filter = melted_crosstab.apply(lambda row: len(\n",
    "                set(row[columns[:-1]].tolist() + [row[columns[-1]]])) == 1,\n",
    "                                                 axis=1)\n",
    "            melted_crosstab = melted_crosstab[~equal_filter]\n",
    "\n",
    "        # Sort the results\n",
    "        melted_crosstab.sort_values(by=columns, inplace=True)\n",
    "\n",
    "        # Print results using tabulate for better formatting\n",
    "        title = f\"Multi-way Frequency Table for {' ,'.join(columns)}\"\n",
    "        if exclude_equal:\n",
    "            title += \" (Non-equal Values Only)\"\n",
    "        print(\"---------\", title, \"----------\")\n",
    "        print(\n",
    "            tabulate(melted_crosstab,\n",
    "                     headers='keys',\n",
    "                     tablefmt='grid',\n",
    "                     showindex=False))\n",
    "        print(\"\")\n",
    "\n",
    "    def data_construct(self, col_name, conditions_str, choices, default=-1):\n",
    "        \"\"\"\n",
    "        Construct a new column in the data based on multiple conditions,\n",
    "        where choices can be either fixed values or column references.\n",
    "        Stop checking further conditions once a true condition is met for a row.\n",
    "\n",
    "        :param col_name: Name of the new column to be added.\n",
    "        :param conditions_str: A list of conditions (as strings) that determine the value to be assigned.\n",
    "        :param choices: A list of values or column names to be assigned based on the conditions.\n",
    "        :param default: The default value or column name to be assigned if none of the conditions are met. Default is -1.\n",
    "        \"\"\"\n",
    "        temp_df = self.data.copy()\n",
    "\n",
    "        # Initialize the new column with NaNs which will be replaced by the default at the end\n",
    "        temp_df[col_name] = np.nan\n",
    "\n",
    "        # Loop through each condition and choice, assign only if the column is still NaN\n",
    "        for condition, choice in zip(conditions_str, choices):\n",
    "            condition_series = temp_df.eval(condition)\n",
    "            if isinstance(choice, str) and choice in temp_df.columns:\n",
    "                # Apply choice from another column\n",
    "                temp_df.loc[condition_series & temp_df[col_name].isna(),\n",
    "                            col_name] = temp_df.loc[condition_series, choice]\n",
    "            else:\n",
    "                # Apply fixed choice\n",
    "                temp_df.loc[condition_series & temp_df[col_name].isna(),\n",
    "                            col_name] = choice\n",
    "\n",
    "        # Fill remaining NaNs with the default value\n",
    "        if isinstance(default, str) and default in temp_df.columns:\n",
    "            temp_df[col_name].fillna(temp_df[default], inplace=True)\n",
    "        else:\n",
    "            temp_df[col_name].fillna(default, inplace=True)\n",
    "\n",
    "        self.data = temp_df\n",
    "    def copy_column(self, source_col, target_col):\n",
    "        \"\"\"\n",
    "        Copies the values from one column to another, preserving the original column.\n",
    "\n",
    "        :param source_col: The name of the source column whose values are to be copied.\n",
    "        :param target_col: The name of the target column to which the values will be copied.\n",
    "        \"\"\"\n",
    "        if source_col in self.data.columns:\n",
    "            self.data[target_col] = self.data[source_col]\n",
    "            print(f\"Values from '{source_col}' were successfully copied to '{target_col}'.\")\n",
    "        else:\n",
    "            print(f\"Error: The column '{source_col}' does not exist in the DataFrame.\")"
   ]
  },
  {
   "cell_type": "code",
   "execution_count": null,
   "id": "5c5c104e",
   "metadata": {
    "ExecuteTime": {
     "start_time": "2024-05-23T01:37:13.410Z"
    }
   },
   "outputs": [],
   "source": [
    "acs_working = acs_raw.copy()\n",
    "\n",
    "conditions = [\n",
    "    acs_raw['SERIALNO'].str[4:6] == 'GQ',  # Condition for 'GQ'\n",
    "    acs_raw['SERIALNO'].str[4:6] == 'HU'   # Condition for 'HU'\n",
    "]\n",
    "\n",
    "choices = [1, 0]\n",
    "\n",
    "acs_working['INGRPQ'] = np.select(conditions, choices, default = -1)"
   ]
  },
  {
   "cell_type": "markdown",
   "id": "b9798a6c",
   "metadata": {},
   "source": [
    "ACS Processing"
   ]
  },
  {
   "cell_type": "code",
   "execution_count": null,
   "id": "4ee783b7",
   "metadata": {
    "ExecuteTime": {
     "start_time": "2024-05-23T01:37:13.411Z"
    }
   },
   "outputs": [],
   "source": [
    "acs = DataToolBox(acs_working)\n",
    "acs.data_desc()\n",
    "acs.data_exclude('INGRPQ == 0')"
   ]
  },
  {
   "cell_type": "markdown",
   "id": "2c261b7a",
   "metadata": {},
   "source": [
    "CHIS Processing"
   ]
  },
  {
   "cell_type": "code",
   "execution_count": null,
   "id": "4a7a8661",
   "metadata": {
    "ExecuteTime": {
     "start_time": "2024-05-23T01:37:13.412Z"
    }
   },
   "outputs": [],
   "source": [
    "chis = DataToolBox(chis_raw)\n",
    "chis.data_desc()"
   ]
  },
  {
   "cell_type": "code",
   "execution_count": null,
   "id": "83363e87",
   "metadata": {
    "ExecuteTime": {
     "start_time": "2024-05-23T01:37:13.413Z"
    },
    "scrolled": true
   },
   "outputs": [],
   "source": [
    "acs.data_construct(\"sc_sex\", ['SEX == 1', \"SEX == 2\"], [1,2])\n",
    "chis.data_construct('sc_sex', [\"SRSEX == 1\", \"SRSEX == 2\"], [1,2])\n",
    "\n",
    "acs.freq_2way('SEX', \"sc_sex\")\n",
    "chis.freq_2way('SRSEX', \"sc_sex\")"
   ]
  },
  {
   "cell_type": "code",
   "execution_count": null,
   "id": "85562956",
   "metadata": {
    "ExecuteTime": {
     "start_time": "2024-05-23T01:37:13.414Z"
    }
   },
   "outputs": [],
   "source": [
    "acs.data_construct(\"sc_age_cont\", ['AGEP <=99'], ['AGEP'])\n",
    "chis.data_construct('sc_age_cont', ['SRAGE < 99', 'SRAGE >= 99'], ['SRAGE', 99])\n",
    "\n",
    "acs.freq_2way('AGEP','sc_age_cont', exclude_equal=True)\n",
    "chis.freq_2way('SRAGE', 'sc_age_cont', exclude_equal=True)"
   ]
  },
  {
   "cell_type": "code",
   "execution_count": null,
   "id": "9397ff25",
   "metadata": {
    "ExecuteTime": {
     "start_time": "2024-05-23T01:37:13.414Z"
    }
   },
   "outputs": [],
   "source": [
    "acs.data_construct('sc_age_cat', [\n",
    "    'AGEP < 18', 'AGEP >= 18 & AGEP < 25', 'AGEP >= 25 & AGEP < 35',\n",
    "    'AGEP >= 35 & AGEP < 45', 'AGEP >= 45 & AGEP < 55',\n",
    "    'AGEP >= 55 & AGEP < 64', 'AGEP >= 65'\n",
    "], list(range(7)))\n",
    "chis.data_construct('sc_age_cat', [\n",
    "    'SRAGE < 18', 'SRAGE >= 18 & SRAGE < 25', 'SRAGE >= 25 & SRAGE < 35',\n",
    "    'SRAGE >= 35 & SRAGE < 45', 'SRAGE >= 45 & SRAGE < 55',\n",
    "    'SRAGE >= 55 & SRAGE < 64', 'SRAGE >= 65'\n",
    "], list(range(7)))\n",
    "acs.freq_2way('AGEP', 'sc_age_cat')\n",
    "chis.freq_2way('SRAGE', 'sc_age_cat')"
   ]
  },
  {
   "cell_type": "code",
   "execution_count": null,
   "id": "30971391",
   "metadata": {
    "ExecuteTime": {
     "start_time": "2024-05-23T01:37:13.415Z"
    }
   },
   "outputs": [],
   "source": [
    "acs.data_construct('sc_hisp', ['HISP == 1', 'HISP != 1'], [1, 2])\n",
    "acs.freq_2way('HISP', 'sc_hisp')\n",
    "\n",
    "chis.data_construct('sc_hisp', ['SRH == 1', 'SRH != 1'], [1, 2])\n",
    "chis.freq_2way('SRH', 'sc_hisp')"
   ]
  },
  {
   "cell_type": "code",
   "execution_count": null,
   "id": "6ed4d9f2",
   "metadata": {
    "ExecuteTime": {
     "start_time": "2024-05-23T01:37:13.415Z"
    }
   },
   "outputs": [],
   "source": [
    "acs.freq_1way('RAC1P')"
   ]
  },
  {
   "cell_type": "code",
   "execution_count": null,
   "id": "4ac49dde",
   "metadata": {
    "ExecuteTime": {
     "start_time": "2024-05-23T01:37:13.416Z"
    }
   },
   "outputs": [],
   "source": [
    "acs.data_construct('sc_race_ethi', [\n",
    "    'HISP == 1', 'RAC1P == 1', 'RAC1P == 2', 'RAC1P == 3 | RAC1P == 4 |RAC1P == 5',\n",
    "    'RAC1P == 6', 'RAC1P == 7', 'RAC1P == 8 | RAC1P == 9'\n",
    "], [1, 2, 3, 4, 5, 6, 7])\n",
    "\n",
    "chis.copy_column('OMBSRREO','sc_race_ethi')\n",
    "\n",
    "acs.freq_multiway(['sc_hisp', 'RAC1P','sc_race_ethi'])\n",
    "chis.freq_2way('OMBSRREO', 'sc_race_ethi')"
   ]
  },
  {
   "cell_type": "code",
   "execution_count": null,
   "id": "3e366fae",
   "metadata": {
    "ExecuteTime": {
     "start_time": "2024-05-23T01:37:13.416Z"
    }
   },
   "outputs": [],
   "source": [
    "acs.data_construct('sc_cit', ['CIT == 1|CIT == 2|CIT==3', 'CIT ==4', 'CIT==5'],\n",
    "                   [1, 2, 3])\n",
    "chis.copy_column('CITIZEN2', \"sc_cit\")\n",
    "\n",
    "acs.freq_2way('CIT', 'sc_cit')\n",
    "chis.freq_2way('CITIZEN2', 'sc_cit')\n",
    "\n",
    "acs.freq_1way('sc_cit')\n",
    "chis.freq_1way('sc_cit')"
   ]
  },
  {
   "cell_type": "code",
   "execution_count": null,
   "id": "9db2ef5b",
   "metadata": {
    "ExecuteTime": {
     "start_time": "2024-05-23T01:37:13.417Z"
    }
   },
   "outputs": [],
   "source": [
    "acs.freq_1way('SCHL')"
   ]
  },
  {
   "cell_type": "code",
   "execution_count": null,
   "id": "6cbcc8c1",
   "metadata": {
    "ExecuteTime": {
     "start_time": "2024-05-23T01:37:13.418Z"
    }
   },
   "outputs": [],
   "source": [
    "acs.data_construct('sc_edu', ['SCHL >= 4 & SCHL <= 11', \n",
    "                              'SCHL >= 12 & SCHL <= 14',\n",
    "                               'SCHL >= 15 & SCHL <= 17',\n",
    "                                'SCHL >= 18 & SCHL <= 19', \n",
    "                                  'SCHL == 20'], \n",
    "                   \n",
    "                   [1, 2, 3, 4, 6])\n",
    "acs.freq_2way(\"SCHL\", 'sc_edu')"
   ]
  },
  {
   "cell_type": "code",
   "execution_count": 209,
   "id": "6f38f43c",
   "metadata": {
    "ExecuteTime": {
     "end_time": "2024-05-23T01:30:27.339086Z",
     "start_time": "2024-05-23T01:30:27.299984Z"
    }
   },
   "outputs": [
    {
     "name": "stdout",
     "output_type": "stream",
     "text": [
      "--------- Two-way Frequency Table for SREDUC and AHEDUC ----------\n",
      "+----------+----------+---------+\n",
      "|   SREDUC |   AHEDUC |   COUNT |\n",
      "+==========+==========+=========+\n",
      "|        1 |        1 |     372 |\n",
      "+----------+----------+---------+\n",
      "|        1 |        2 |     493 |\n",
      "+----------+----------+---------+\n",
      "|        1 |       91 |      75 |\n",
      "+----------+----------+---------+\n",
      "|        2 |        3 |    2489 |\n",
      "+----------+----------+---------+\n",
      "|        3 |        4 |    2928 |\n",
      "+----------+----------+---------+\n",
      "|        3 |        5 |    1286 |\n",
      "+----------+----------+---------+\n",
      "|        3 |        6 |    1514 |\n",
      "+----------+----------+---------+\n",
      "|        4 |        7 |    6399 |\n",
      "+----------+----------+---------+\n",
      "|        4 |        8 |     602 |\n",
      "+----------+----------+---------+\n",
      "|        4 |        9 |    3703 |\n",
      "+----------+----------+---------+\n",
      "|        4 |       10 |    1602 |\n",
      "+----------+----------+---------+\n",
      "\n"
     ]
    }
   ],
   "source": [
    "chis.freq_2way('SREDUC', 'AHEDUC')"
   ]
  }
 ],
 "metadata": {
  "kernelspec": {
   "display_name": "Python 3 (ipykernel)",
   "language": "python",
   "name": "python3"
  },
  "language_info": {
   "codemirror_mode": {
    "name": "ipython",
    "version": 3
   },
   "file_extension": ".py",
   "mimetype": "text/x-python",
   "name": "python",
   "nbconvert_exporter": "python",
   "pygments_lexer": "ipython3",
   "version": "3.9.7"
  },
  "varInspector": {
   "cols": {
    "lenName": 16,
    "lenType": 16,
    "lenVar": 40
   },
   "kernels_config": {
    "python": {
     "delete_cmd_postfix": "",
     "delete_cmd_prefix": "del ",
     "library": "var_list.py",
     "varRefreshCmd": "print(var_dic_list())"
    },
    "r": {
     "delete_cmd_postfix": ") ",
     "delete_cmd_prefix": "rm(",
     "library": "var_list.r",
     "varRefreshCmd": "cat(var_dic_list()) "
    }
   },
   "types_to_exclude": [
    "module",
    "function",
    "builtin_function_or_method",
    "instance",
    "_Feature"
   ],
   "window_display": false
  }
 },
 "nbformat": 4,
 "nbformat_minor": 5
}
