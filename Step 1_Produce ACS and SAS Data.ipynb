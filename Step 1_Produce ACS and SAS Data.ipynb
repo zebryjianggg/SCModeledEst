{
 "cells": [
  {
   "cell_type": "markdown",
   "id": "2c9c7650",
   "metadata": {},
   "source": [
    "Environment Set-up"
   ]
  },
  {
   "cell_type": "code",
   "execution_count": 79,
   "id": "38859493",
   "metadata": {
    "ExecuteTime": {
     "end_time": "2024-03-15T23:04:12.418362Z",
     "start_time": "2024-03-15T23:04:12.410956Z"
    }
   },
   "outputs": [],
   "source": [
    "import pandas as pd\n",
    "import pyreadstat\n",
    "from sas7bdat import SAS7BDAT\n",
    "import numpy as np"
   ]
  },
  {
   "cell_type": "markdown",
   "id": "5ac2331a",
   "metadata": {},
   "source": [
    "Importing Data"
   ]
  },
  {
   "cell_type": "code",
   "execution_count": 42,
   "id": "046d12ac",
   "metadata": {
    "ExecuteTime": {
     "end_time": "2024-03-15T20:59:46.419425Z",
     "start_time": "2024-03-15T20:59:13.417973Z"
    }
   },
   "outputs": [],
   "source": [
    "acs_raw = pd.read_csv(\"Data/ACS_5YR/2018_2022/psam_p06.csv\")"
   ]
  },
  {
   "cell_type": "code",
   "execution_count": 43,
   "id": "ebeceb64",
   "metadata": {
    "ExecuteTime": {
     "end_time": "2024-03-15T21:00:30.775421Z",
     "start_time": "2024-03-15T20:59:46.465048Z"
    }
   },
   "outputs": [],
   "source": [
    "with SAS7BDAT('Data/CHIS Dummy/Adult 2022/dummy_adult.sas7bdat') as file:\n",
    "    chis_raw = file.to_data_frame()"
   ]
  },
  {
   "cell_type": "markdown",
   "id": "520bb31d",
   "metadata": {},
   "source": [
    "Data Manipulation Toolbox - DataToolBox"
   ]
  },
  {
   "cell_type": "code",
   "execution_count": 121,
   "id": "cbfc78cc",
   "metadata": {
    "ExecuteTime": {
     "end_time": "2024-03-16T00:02:12.926486Z",
     "start_time": "2024-03-16T00:02:12.905810Z"
    }
   },
   "outputs": [],
   "source": [
    "class DataToolBox:\n",
    "    def __init__(self, data):\n",
    "        self.data = data\n",
    "\n",
    "    def return_data(self):\n",
    "        return self.data\n",
    "\n",
    "    def data_desc(self):\n",
    "        temp = self.data.shape\n",
    "\n",
    "        print(\"---------Current Data State----------\")\n",
    "        print(temp[0], \"obs;\", temp[1], \"vars\")\n",
    "        print(\"\")\n",
    "\n",
    "    def data_exclude(self, condition: str):\n",
    "        temp = self.data.query(condition)\n",
    "        temp_new_obs = temp.shape[0]\n",
    "        temp_old_obs = self.data.shape[0]\n",
    "        temp_diff_obs = temp_old_obs - temp_new_obs\n",
    "\n",
    "        print(\"---------Obs Filter-----------------\")\n",
    "        print(\"applying condition: \", condition)\n",
    "        print(temp_diff_obs, \"/\", temp_old_obs, \"cases were removed\")\n",
    "        print(\"new obs #: \", temp_new_obs)\n",
    "        print(\"\")\n",
    "\n",
    "        self.data = temp\n",
    "\n",
    "    def data_construct(self, col_name, conditions_str, choices, default=-1):\n",
    "        temp_df = self.data.copy()\n",
    "\n",
    "        conditions = [temp_df.eval(condition) for condition in conditions_str]\n",
    "        temp_df[col_name] = np.select(conditions, choices, default=default)\n",
    "\n",
    "        self.data = temp_df\n",
    "\n",
    "    def freq_1way(self, col_name):\n",
    "        temp_df = self.data\n",
    "        frequency = temp_df[col_name].value_counts()\n",
    "        print(frequency)\n",
    "\n",
    "    def freq_2way(self, col_name_1, col_name_2):\n",
    "        temp_df = self.data\n",
    "        crosstab_out = pd.DataFrame(\n",
    "            pd.crosstab(temp_df[col_name_1], temp_df[col_name_2]))\n",
    "        print(crosstab_out)"
   ]
  },
  {
   "cell_type": "code",
   "execution_count": 126,
   "id": "4ee783b7",
   "metadata": {
    "ExecuteTime": {
     "end_time": "2024-03-16T00:07:21.365325Z",
     "start_time": "2024-03-16T00:07:21.355388Z"
    }
   },
   "outputs": [
    {
     "name": "stdout",
     "output_type": "stream",
     "text": [
      "---------Current Data State----------\n",
      "1839928 obs; 290 vars\n",
      "\n",
      "---------Current Data State----------\n",
      "21463 obs; 1336 vars\n",
      "\n"
     ]
    }
   ],
   "source": [
    "acs = DataToolBox(acs_raw)\n",
    "acs.data_desc()\n",
    "\n",
    "chis = DataToolBox(chis_raw)\n",
    "chis.data_desc()"
   ]
  },
  {
   "cell_type": "markdown",
   "id": "9b9a1bf2",
   "metadata": {},
   "source": [
    "Create working ACS and CHIS Dataset"
   ]
  },
  {
   "cell_type": "code",
   "execution_count": 14,
   "id": "b9fe5c42",
   "metadata": {
    "ExecuteTime": {
     "end_time": "2024-03-15T18:15:10.733475Z",
     "start_time": "2024-03-15T18:15:03.151765Z"
    }
   },
   "outputs": [
    {
     "name": "stdout",
     "output_type": "stream",
     "text": [
      "(1839928, 290) (1750797, 290)\n"
     ]
    }
   ],
   "source": []
  },
  {
   "cell_type": "code",
   "execution_count": 16,
   "id": "4b22e67b",
   "metadata": {
    "ExecuteTime": {
     "end_time": "2024-03-15T18:18:17.348819Z",
     "start_time": "2024-03-15T18:18:17.329382Z"
    }
   },
   "outputs": [
    {
     "name": "stdout",
     "output_type": "stream",
     "text": [
      "removed 89131\n"
     ]
    }
   ],
   "source": []
  }
 ],
 "metadata": {
  "kernelspec": {
   "display_name": "Python 3 (ipykernel)",
   "language": "python",
   "name": "python3"
  },
  "language_info": {
   "codemirror_mode": {
    "name": "ipython",
    "version": 3
   },
   "file_extension": ".py",
   "mimetype": "text/x-python",
   "name": "python",
   "nbconvert_exporter": "python",
   "pygments_lexer": "ipython3",
   "version": "3.9.7"
  },
  "varInspector": {
   "cols": {
    "lenName": 16,
    "lenType": 16,
    "lenVar": 40
   },
   "kernels_config": {
    "python": {
     "delete_cmd_postfix": "",
     "delete_cmd_prefix": "del ",
     "library": "var_list.py",
     "varRefreshCmd": "print(var_dic_list())"
    },
    "r": {
     "delete_cmd_postfix": ") ",
     "delete_cmd_prefix": "rm(",
     "library": "var_list.r",
     "varRefreshCmd": "cat(var_dic_list()) "
    }
   },
   "types_to_exclude": [
    "module",
    "function",
    "builtin_function_or_method",
    "instance",
    "_Feature"
   ],
   "window_display": false
  }
 },
 "nbformat": 4,
 "nbformat_minor": 5
}
